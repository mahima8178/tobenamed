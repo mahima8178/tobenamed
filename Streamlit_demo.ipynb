{
  "cells": [
    {
      "cell_type": "markdown",
      "metadata": {
        "id": "view-in-github",
        "colab_type": "text"
      },
      "source": [
        "<a href=\"https://colab.research.google.com/github/mahima8178/tobenamed/blob/main/Streamlit_demo.ipynb\" target=\"_parent\"><img src=\"https://colab.research.google.com/assets/colab-badge.svg\" alt=\"Open In Colab\"/></a>"
      ]
    },
    {
      "cell_type": "code",
      "execution_count": null,
      "metadata": {
        "colab": {
          "base_uri": "https://localhost:8080/"
        },
        "id": "6-u3P7vBM0Km",
        "outputId": "14937a64-aece-4aed-b1b5-79907638b6ca"
      },
      "outputs": [
        {
          "name": "stdout",
          "output_type": "stream",
          "text": [
            "Requirement already satisfied: streamlit in /usr/local/lib/python3.10/dist-packages (1.26.0)\n",
            "Requirement already satisfied: altair<6,>=4.0 in /usr/local/lib/python3.10/dist-packages (from streamlit) (4.2.2)\n",
            "Requirement already satisfied: blinker<2,>=1.0.0 in /usr/lib/python3/dist-packages (from streamlit) (1.4)\n",
            "Requirement already satisfied: cachetools<6,>=4.0 in /usr/local/lib/python3.10/dist-packages (from streamlit) (5.3.1)\n",
            "Requirement already satisfied: click<9,>=7.0 in /usr/local/lib/python3.10/dist-packages (from streamlit) (8.1.7)\n",
            "Requirement already satisfied: importlib-metadata<7,>=1.4 in /usr/local/lib/python3.10/dist-packages (from streamlit) (6.8.0)\n",
            "Requirement already satisfied: numpy<2,>=1.19.3 in /usr/local/lib/python3.10/dist-packages (from streamlit) (1.23.5)\n",
            "Requirement already satisfied: packaging<24,>=16.8 in /usr/local/lib/python3.10/dist-packages (from streamlit) (23.1)\n",
            "Requirement already satisfied: pandas<3,>=1.3.0 in /usr/local/lib/python3.10/dist-packages (from streamlit) (1.5.3)\n",
            "Requirement already satisfied: pillow<10,>=7.1.0 in /usr/local/lib/python3.10/dist-packages (from streamlit) (9.4.0)\n",
            "Requirement already satisfied: protobuf<5,>=3.20 in /usr/local/lib/python3.10/dist-packages (from streamlit) (3.20.3)\n",
            "Requirement already satisfied: pyarrow>=6.0 in /usr/local/lib/python3.10/dist-packages (from streamlit) (9.0.0)\n",
            "Requirement already satisfied: pympler<2,>=0.9 in /usr/local/lib/python3.10/dist-packages (from streamlit) (1.0.1)\n",
            "Requirement already satisfied: python-dateutil<3,>=2.7.3 in /usr/local/lib/python3.10/dist-packages (from streamlit) (2.8.2)\n",
            "Requirement already satisfied: requests<3,>=2.18 in /usr/local/lib/python3.10/dist-packages (from streamlit) (2.31.0)\n",
            "Requirement already satisfied: rich<14,>=10.14.0 in /usr/local/lib/python3.10/dist-packages (from streamlit) (13.5.2)\n",
            "Requirement already satisfied: tenacity<9,>=8.1.0 in /usr/local/lib/python3.10/dist-packages (from streamlit) (8.2.3)\n",
            "Requirement already satisfied: toml<2,>=0.10.1 in /usr/local/lib/python3.10/dist-packages (from streamlit) (0.10.2)\n",
            "Requirement already satisfied: typing-extensions<5,>=4.1.0 in /usr/local/lib/python3.10/dist-packages (from streamlit) (4.7.1)\n",
            "Requirement already satisfied: tzlocal<5,>=1.1 in /usr/local/lib/python3.10/dist-packages (from streamlit) (4.3.1)\n",
            "Requirement already satisfied: validators<1,>=0.2 in /usr/local/lib/python3.10/dist-packages (from streamlit) (0.22.0)\n",
            "Requirement already satisfied: gitpython!=3.1.19,<4,>=3.0.7 in /usr/local/lib/python3.10/dist-packages (from streamlit) (3.1.34)\n",
            "Requirement already satisfied: pydeck<1,>=0.8 in /usr/local/lib/python3.10/dist-packages (from streamlit) (0.8.0)\n",
            "Requirement already satisfied: tornado<7,>=6.0.3 in /usr/local/lib/python3.10/dist-packages (from streamlit) (6.3.2)\n",
            "Requirement already satisfied: watchdog>=2.1.5 in /usr/local/lib/python3.10/dist-packages (from streamlit) (3.0.0)\n",
            "Requirement already satisfied: entrypoints in /usr/local/lib/python3.10/dist-packages (from altair<6,>=4.0->streamlit) (0.4)\n",
            "Requirement already satisfied: jinja2 in /usr/local/lib/python3.10/dist-packages (from altair<6,>=4.0->streamlit) (3.1.2)\n",
            "Requirement already satisfied: jsonschema>=3.0 in /usr/local/lib/python3.10/dist-packages (from altair<6,>=4.0->streamlit) (4.19.0)\n",
            "Requirement already satisfied: toolz in /usr/local/lib/python3.10/dist-packages (from altair<6,>=4.0->streamlit) (0.12.0)\n",
            "Requirement already satisfied: gitdb<5,>=4.0.1 in /usr/local/lib/python3.10/dist-packages (from gitpython!=3.1.19,<4,>=3.0.7->streamlit) (4.0.10)\n",
            "Requirement already satisfied: zipp>=0.5 in /usr/local/lib/python3.10/dist-packages (from importlib-metadata<7,>=1.4->streamlit) (3.16.2)\n",
            "Requirement already satisfied: pytz>=2020.1 in /usr/local/lib/python3.10/dist-packages (from pandas<3,>=1.3.0->streamlit) (2023.3)\n",
            "Requirement already satisfied: six>=1.5 in /usr/local/lib/python3.10/dist-packages (from python-dateutil<3,>=2.7.3->streamlit) (1.16.0)\n",
            "Requirement already satisfied: charset-normalizer<4,>=2 in /usr/local/lib/python3.10/dist-packages (from requests<3,>=2.18->streamlit) (3.2.0)\n",
            "Requirement already satisfied: idna<4,>=2.5 in /usr/local/lib/python3.10/dist-packages (from requests<3,>=2.18->streamlit) (3.4)\n",
            "Requirement already satisfied: urllib3<3,>=1.21.1 in /usr/local/lib/python3.10/dist-packages (from requests<3,>=2.18->streamlit) (2.0.4)\n",
            "Requirement already satisfied: certifi>=2017.4.17 in /usr/local/lib/python3.10/dist-packages (from requests<3,>=2.18->streamlit) (2023.7.22)\n",
            "Requirement already satisfied: markdown-it-py>=2.2.0 in /usr/local/lib/python3.10/dist-packages (from rich<14,>=10.14.0->streamlit) (3.0.0)\n",
            "Requirement already satisfied: pygments<3.0.0,>=2.13.0 in /usr/local/lib/python3.10/dist-packages (from rich<14,>=10.14.0->streamlit) (2.16.1)\n",
            "Requirement already satisfied: pytz-deprecation-shim in /usr/local/lib/python3.10/dist-packages (from tzlocal<5,>=1.1->streamlit) (0.1.0.post0)\n",
            "Requirement already satisfied: smmap<6,>=3.0.1 in /usr/local/lib/python3.10/dist-packages (from gitdb<5,>=4.0.1->gitpython!=3.1.19,<4,>=3.0.7->streamlit) (5.0.0)\n",
            "Requirement already satisfied: MarkupSafe>=2.0 in /usr/local/lib/python3.10/dist-packages (from jinja2->altair<6,>=4.0->streamlit) (2.1.3)\n",
            "Requirement already satisfied: attrs>=22.2.0 in /usr/local/lib/python3.10/dist-packages (from jsonschema>=3.0->altair<6,>=4.0->streamlit) (23.1.0)\n",
            "Requirement already satisfied: jsonschema-specifications>=2023.03.6 in /usr/local/lib/python3.10/dist-packages (from jsonschema>=3.0->altair<6,>=4.0->streamlit) (2023.7.1)\n",
            "Requirement already satisfied: referencing>=0.28.4 in /usr/local/lib/python3.10/dist-packages (from jsonschema>=3.0->altair<6,>=4.0->streamlit) (0.30.2)\n",
            "Requirement already satisfied: rpds-py>=0.7.1 in /usr/local/lib/python3.10/dist-packages (from jsonschema>=3.0->altair<6,>=4.0->streamlit) (0.9.2)\n",
            "Requirement already satisfied: mdurl~=0.1 in /usr/local/lib/python3.10/dist-packages (from markdown-it-py>=2.2.0->rich<14,>=10.14.0->streamlit) (0.1.2)\n",
            "Requirement already satisfied: tzdata in /usr/local/lib/python3.10/dist-packages (from pytz-deprecation-shim->tzlocal<5,>=1.1->streamlit) (2023.3)\n"
          ]
        }
      ],
      "source": [
        "!pip install streamlit"
      ]
    },
    {
      "cell_type": "code",
      "execution_count": null,
      "metadata": {
        "colab": {
          "base_uri": "https://localhost:8080/"
        },
        "id": "KhOSk6HrRZHV",
        "outputId": "8fd93c04-b736-4e9d-bba6-2d8489e4a2e1"
      },
      "outputs": [
        {
          "name": "stdout",
          "output_type": "stream",
          "text": [
            "Requirement already satisfied: wget in /usr/local/lib/python3.10/dist-packages (3.2)\n"
          ]
        }
      ],
      "source": [
        "!pip install wget\n",
        "import wget"
      ]
    },
    {
      "cell_type": "code",
      "execution_count": null,
      "metadata": {
        "id": "XRntn1s8RmUp"
      },
      "outputs": [],
      "source": [
        "import wget"
      ]
    },
    {
      "cell_type": "code",
      "execution_count": null,
      "metadata": {
        "colab": {
          "base_uri": "https://localhost:8080/"
        },
        "id": "x3iXeAf-Q7gx",
        "outputId": "8f26c641-d89e-481c-dc83-d69309d427b8"
      },
      "outputs": [
        {
          "name": "stdout",
          "output_type": "stream",
          "text": [
            "Overwriting app.py\n"
          ]
        }
      ],
      "source": [
        "%%writefile app.py\n",
        "import streamlit as st\n",
        "st.write(\"Hello Zombzz\")"
      ]
    },
    {
      "cell_type": "code",
      "execution_count": null,
      "metadata": {
        "id": "NtU8vD4DQEQ6"
      },
      "outputs": [],
      "source": []
    },
    {
      "cell_type": "code",
      "execution_count": null,
      "metadata": {
        "colab": {
          "base_uri": "https://localhost:8080/"
        },
        "id": "ZwZfxryIQz-O",
        "outputId": "8db18760-7ce6-450a-c79c-4b48ee0304a5"
      },
      "outputs": [
        {
          "name": "stdout",
          "output_type": "stream",
          "text": [
            "\u001b[K\u001b[?25h\u001b[37;40mnpm\u001b[0m \u001b[0m\u001b[30;43mWARN\u001b[0m \u001b[0m\u001b[35msaveError\u001b[0m ENOENT: no such file or directory, open '/content/package.json'\n",
            "\u001b[0m\u001b[37;40mnpm\u001b[0m \u001b[0m\u001b[30;43mWARN\u001b[0m \u001b[0m\u001b[35menoent\u001b[0m ENOENT: no such file or directory, open '/content/package.json'\n",
            "\u001b[0m\u001b[37;40mnpm\u001b[0m \u001b[0m\u001b[30;43mWARN\u001b[0m\u001b[35m\u001b[0m content No description\n",
            "\u001b[0m\u001b[37;40mnpm\u001b[0m \u001b[0m\u001b[30;43mWARN\u001b[0m\u001b[35m\u001b[0m content No repository field.\n",
            "\u001b[0m\u001b[37;40mnpm\u001b[0m \u001b[0m\u001b[30;43mWARN\u001b[0m\u001b[35m\u001b[0m content No README data\n",
            "\u001b[0m\u001b[37;40mnpm\u001b[0m \u001b[0m\u001b[30;43mWARN\u001b[0m\u001b[35m\u001b[0m content No license field.\n",
            "\u001b[0m\n",
            "+ localtunnel@2.0.2\n",
            "updated 1 package and audited 36 packages in 0.926s\n",
            "\n",
            "3 packages are looking for funding\n",
            "  run `npm fund` for details\n",
            "\n",
            "found \u001b[92m0\u001b[0m vulnerabilities\n",
            "\n",
            "\u001b[K\u001b[?25h"
          ]
        }
      ],
      "source": [
        "!npm install localtunnel"
      ]
    },
    {
      "cell_type": "code",
      "execution_count": null,
      "metadata": {
        "id": "jOTIIpfuQave"
      },
      "outputs": [],
      "source": [
        "!streamlit run app.py &>/content/logs.txt &"
      ]
    },
    {
      "cell_type": "code",
      "execution_count": null,
      "metadata": {
        "colab": {
          "base_uri": "https://localhost:8080/"
        },
        "id": "MK1dboe7R8aH",
        "outputId": "918642fc-c88d-425e-edee-7f80f33940ea"
      },
      "outputs": [
        {
          "name": "stdout",
          "output_type": "stream",
          "text": [
            "Password/Enpoint IP for localtunnel is: 35.238.221.23\n"
          ]
        }
      ],
      "source": [
        "import urllib\n",
        "print(\"Password/Enpoint IP for localtunnel is:\",urllib.request.urlopen('https://ipv4.icanhazip.com').read().decode('utf8').strip(\"\\n\"))"
      ]
    },
    {
      "cell_type": "code",
      "execution_count": null,
      "metadata": {
        "id": "aG09se-2Qayp"
      },
      "outputs": [],
      "source": [
        "# !npx localtunnel --port 8501 wget -q -O - ipv4.icanhazip.com"
      ]
    },
    {
      "cell_type": "code",
      "execution_count": null,
      "metadata": {
        "colab": {
          "base_uri": "https://localhost:8080/"
        },
        "id": "lLlb2lmqQa1Y",
        "outputId": "b112f023-b675-49f6-8d86-c780c474593c"
      },
      "outputs": [
        {
          "name": "stdout",
          "output_type": "stream",
          "text": [
            "\n",
            " # Below are all the sections and options you can have in\n",
            " ~/.streamlit/config.toml.\n",
            " \n",
            "\n",
            "\u001b[32m\u001b[1m[global]\u001b[0m\n",
            "\n",
            "# \u001b[1mBy default, Streamlit checks if the Python watchdog module is available\u001b[0m\n",
            "# \u001b[1mand, if not, prints a warning asking for you to install it. The watchdog\u001b[0m\n",
            "# \u001b[1mmodule is not required, but highly recommended. It improves Streamlit's\u001b[0m\n",
            "# \u001b[1mability to detect changes to files in your filesystem.\u001b[0m\n",
            "\n",
            "# If you'd like to turn off this warning, set this to True.\u001b[0m\n",
            "\n",
            "# Default: false\u001b[0m\n",
            "\u001b[32m# disableWatchdogWarning = false\n",
            "\u001b[0m\n",
            "# \u001b[1mBy default, Streamlit displays a warning when a user sets both a widget\u001b[0m\n",
            "# \u001b[1mdefault value in the function defining the widget and a widget value via\u001b[0m\n",
            "# \u001b[1mthe widget's key in `st.session_state`.\u001b[0m\n",
            "\n",
            "# If you'd like to turn off this warning, set this to True.\u001b[0m\n",
            "\n",
            "# Default: false\u001b[0m\n",
            "\u001b[32m# disableWidgetStateDuplicationWarning = false\n",
            "\u001b[0m\n",
            "# \u001b[1mIf True, will show a warning when you run a Streamlit-enabled script\u001b[0m\n",
            "# \u001b[1mvia \"python my_script.py\".\u001b[0m\n",
            "\n",
            "# Default: true\u001b[0m\n",
            "\u001b[32m# showWarningOnDirectExecution = true\n",
            "\u001b[0m\n",
            "# \u001b[1mDataFrame serialization.\u001b[0m\n",
            "\n",
            "# Acceptable values:\u001b[0m\n",
            "# - 'legacy': Serialize DataFrames using Streamlit's custom format. Slow\u001b[0m\n",
            "# but battle-tested.\u001b[0m\n",
            "# - 'arrow': Serialize DataFrames using Apache Arrow. Much faster and versatile.\u001b[0m\n",
            "\n",
            "# Default: \"arrow\"\u001b[0m\n",
            "\u001b[32m# dataFrameSerialization = \"arrow\"\n",
            "\u001b[0m\n",
            "\n",
            "\u001b[32m\u001b[1m[logger]\u001b[0m\n",
            "\n",
            "# \u001b[1mLevel of logging: 'error', 'warning', 'info', or 'debug'.\u001b[0m\n",
            "\n",
            "# Default: 'info'\u001b[0m\n",
            "\u001b[32m# level = \"info\"\n",
            "\u001b[0m\n",
            "# \u001b[1mString format for logging messages. If logger.datetimeFormat is set,\u001b[0m\n",
            "# \u001b[1mlogger messages will default to `%(asctime)s.%(msecs)03d %(message)s`. See\u001b[0m\n",
            "# \u001b[1m[Python's documentation](https://docs.python.org/2.6/library/logging.html#formatter-objects)\u001b[0m\n",
            "# \u001b[1mfor available attributes.\u001b[0m\n",
            "\n",
            "# Default: \"%(asctime)s %(message)s\"\u001b[0m\n",
            "\u001b[32m# messageFormat = \"%(asctime)s %(message)s\"\n",
            "\u001b[0m\n",
            "\n",
            "\u001b[32m\u001b[1m[client]\u001b[0m\n",
            "\n",
            "# \u001b[1mWhether to enable st.cache. This does not affect st.cache_data or\u001b[0m\n",
            "# \u001b[1mst.cache_resource.\u001b[0m\n",
            "\n",
            "# Default: true\u001b[0m\n",
            "\u001b[32m# caching = true\n",
            "\u001b[0m\n",
            "# \u001b[1mIf false, makes your Streamlit script not draw to a\u001b[0m\n",
            "# \u001b[1mStreamlit app.\u001b[0m\n",
            "\n",
            "# Default: true\u001b[0m\n",
            "\u001b[32m# displayEnabled = true\n",
            "\u001b[0m\n",
            "# \u001b[1mControls whether uncaught app exceptions and deprecation warnings\u001b[0m\n",
            "# \u001b[1mare displayed in the browser. By default, this is set to True and\u001b[0m\n",
            "# \u001b[1mStreamlit displays app exceptions and associated tracebacks, and\u001b[0m\n",
            "# \u001b[1mdeprecation warnings, in the browser.\u001b[0m\n",
            "\n",
            "# If set to False, deprecation warnings and full exception messages\u001b[0m\n",
            "# will print to the console only. Exceptions will still display in the\u001b[0m\n",
            "# browser with a generic error message. For now, the exception type and\u001b[0m\n",
            "# traceback show in the browser also, but they will be removed in the\u001b[0m\n",
            "# future.\u001b[0m\n",
            "\n",
            "# Default: true\u001b[0m\n",
            "\u001b[32m# showErrorDetails = true\n",
            "\u001b[0m\n",
            "# \u001b[1mChange the visibility of items in the toolbar, options menu,\u001b[0m\n",
            "# \u001b[1mand settings dialog (top right of the app).\u001b[0m\n",
            "\n",
            "# Allowed values:\u001b[0m\n",
            "# * \"auto\" : Show the developer options if the app is accessed through\u001b[0m\n",
            "# localhost or through Streamlit Community Cloud as a developer.\u001b[0m\n",
            "# Hide them otherwise.\u001b[0m\n",
            "# * \"developer\" : Show the developer options.\u001b[0m\n",
            "# * \"viewer\" : Hide the developer options.\u001b[0m\n",
            "# * \"minimal\" : Show only options set externally (e.g. through\u001b[0m\n",
            "# Streamlit Community Cloud) or through st.set_page_config.\u001b[0m\n",
            "# If there are no options left, hide the menu.\u001b[0m\n",
            "\n",
            "# Default: \"auto\"\u001b[0m\n",
            "\u001b[32m# toolbarMode = \"auto\"\n",
            "\u001b[0m\n",
            "\n",
            "\u001b[32m\u001b[1m[runner]\u001b[0m\n",
            "\n",
            "# \u001b[1mAllows you to type a variable or string by itself in a single line of\u001b[0m\n",
            "# \u001b[1mPython code to write it to the app.\u001b[0m\n",
            "\n",
            "# Default: true\u001b[0m\n",
            "\u001b[32m# magicEnabled = true\n",
            "\u001b[0m\n",
            "# \u001b[1mInstall a Python tracer to allow you to stop or pause your script at\u001b[0m\n",
            "# \u001b[1many point and introspect it. As a side-effect, this slows down your\u001b[0m\n",
            "# \u001b[1mscript's execution.\u001b[0m\n",
            "\n",
            "# Default: false\u001b[0m\n",
            "\u001b[32m# installTracer = false\n",
            "\u001b[0m\n",
            "# \u001b[1mSets the MPLBACKEND environment variable to Agg inside Streamlit to\u001b[0m\n",
            "# \u001b[1mprevent Python crashing.\u001b[0m\n",
            "\n",
            "# Default: true\u001b[0m\n",
            "\u001b[32m# fixMatplotlib = true\n",
            "\u001b[0m\n",
            "# \u001b[1mRun the Python Garbage Collector after each script execution. This\u001b[0m\n",
            "# \u001b[1mcan help avoid excess memory use in Streamlit apps, but could\u001b[0m\n",
            "# \u001b[1mintroduce delay in rerunning the app script for high-memory-use\u001b[0m\n",
            "# \u001b[1mapplications.\u001b[0m\n",
            "\n",
            "# Default: true\u001b[0m\n",
            "\u001b[32m# postScriptGC = true\n",
            "\u001b[0m\n",
            "# \u001b[1mHandle script rerun requests immediately, rather than waiting for script\u001b[0m\n",
            "# \u001b[1mexecution to reach a yield point. This makes Streamlit much more\u001b[0m\n",
            "# \u001b[1mresponsive to user interaction, but it can lead to race conditions in\u001b[0m\n",
            "# \u001b[1mapps that mutate session_state data outside of explicit session_state\u001b[0m\n",
            "# \u001b[1massignment statements.\u001b[0m\n",
            "\n",
            "# Default: true\u001b[0m\n",
            "\u001b[32m# fastReruns = true\n",
            "\u001b[0m\n",
            "# \u001b[1mRaise an exception after adding unserializable data to Session State.\u001b[0m\n",
            "# \u001b[1mSome execution environments may require serializing all data in Session\u001b[0m\n",
            "# \u001b[1mState, so it may be useful to detect incompatibility during development,\u001b[0m\n",
            "# \u001b[1mor when the execution environment will stop supporting it in the future.\u001b[0m\n",
            "\n",
            "# Default: false\u001b[0m\n",
            "\u001b[32m# enforceSerializableSessionState = false\n",
            "\u001b[0m\n",
            "\n",
            "\u001b[32m\u001b[1m[server]\u001b[0m\n",
            "\n",
            "# \u001b[1mList of folders that should not be watched for changes. This\u001b[0m\n",
            "# \u001b[1mimpacts both \"Run on Save\" and @st.cache.\u001b[0m\n",
            "\n",
            "# Relative paths will be taken as relative to the current working directory.\u001b[0m\n",
            "\n",
            "# Example: ['/home/user1/env', 'relative/path/to/folder']\u001b[0m\n",
            "\n",
            "# Default: []\u001b[0m\n",
            "\u001b[32m# folderWatchBlacklist = []\n",
            "\u001b[0m\n",
            "# \u001b[1mChange the type of file watcher used by Streamlit, or turn it off\u001b[0m\n",
            "# \u001b[1mcompletely.\u001b[0m\n",
            "\n",
            "# Allowed values:\u001b[0m\n",
            "# * \"auto\" : Streamlit will attempt to use the watchdog module, and\u001b[0m\n",
            "# falls back to polling if watchdog is not available.\u001b[0m\n",
            "# * \"watchdog\" : Force Streamlit to use the watchdog module.\u001b[0m\n",
            "# * \"poll\" : Force Streamlit to always use polling.\u001b[0m\n",
            "# * \"none\" : Streamlit will not watch files.\u001b[0m\n",
            "\n",
            "# Default: \"auto\"\u001b[0m\n",
            "\u001b[32m# fileWatcherType = \"auto\"\n",
            "\u001b[0m\n",
            "# \u001b[1mSymmetric key used to produce signed cookies. If deploying on multiple replicas, this should\u001b[0m\n",
            "# \u001b[1mbe set to the same value across all replicas to ensure they all share the same secret.\u001b[0m\n",
            "\n",
            "# Default: randomly generated secret key.\u001b[0m\n",
            "\u001b[32m# cookieSecret = \"3b03d10a31aba2998510c712e65f47cff1ba219259b9ee9e603d86bf7b378ab6\"\n",
            "\u001b[0m\n",
            "# \u001b[1mIf false, will attempt to open a browser window on start.\u001b[0m\n",
            "\n",
            "# Default: false unless (1) we are on a Linux box where DISPLAY is unset, or\u001b[0m\n",
            "# (2) we are running in the Streamlit Atom plugin.\u001b[0m\n",
            "\u001b[32m# headless = true\n",
            "\u001b[0m\n",
            "# \u001b[1mAutomatically rerun script when the file is modified on disk.\u001b[0m\n",
            "\n",
            "# Default: false\u001b[0m\n",
            "\u001b[32m# runOnSave = false\n",
            "\u001b[0m\n",
            "# \u001b[1mThe address where the server will listen for client and browser\u001b[0m\n",
            "# \u001b[1mconnections. Use this if you want to bind the server to a specific address.\u001b[0m\n",
            "# \u001b[1mIf set, the server will only be accessible from this address, and not from\u001b[0m\n",
            "# \u001b[1many aliases (like localhost).\u001b[0m\n",
            "\n",
            "# Default: (unset)\u001b[0m\n",
            "\u001b[32m# address =\n",
            "\u001b[0m\n",
            "# \u001b[1mThe port where the server will listen for browser connections.\u001b[0m\n",
            "\n",
            "# Default: 8501\u001b[0m\n",
            "\u001b[32m# port = 8501\n",
            "\u001b[0m\n",
            "# \u001b[1mThe base path for the URL where Streamlit should be served from.\u001b[0m\n",
            "\n",
            "# Default: \"\"\u001b[0m\n",
            "\u001b[32m# baseUrlPath = \"\"\n",
            "\u001b[0m\n",
            "# \u001b[1mEnables support for Cross-Origin Resource Sharing (CORS) protection, for added security.\u001b[0m\n",
            "\n",
            "# Due to conflicts between CORS and XSRF, if `server.enableXsrfProtection` is on and\u001b[0m\n",
            "# `server.enableCORS` is off at the same time, we will prioritize `server.enableXsrfProtection`.\u001b[0m\n",
            "\n",
            "# Default: true\u001b[0m\n",
            "\u001b[32m# enableCORS = true\n",
            "\u001b[0m\n",
            "# \u001b[1mEnables support for Cross-Site Request Forgery (XSRF) protection, for added security.\u001b[0m\n",
            "\n",
            "# Due to conflicts between CORS and XSRF, if `server.enableXsrfProtection` is on and\u001b[0m\n",
            "# `server.enableCORS` is off at the same time, we will prioritize `server.enableXsrfProtection`.\u001b[0m\n",
            "\n",
            "# Default: true\u001b[0m\n",
            "\u001b[32m# enableXsrfProtection = true\n",
            "\u001b[0m\n",
            "# \u001b[1mMax size, in megabytes, for files uploaded with the file_uploader.\u001b[0m\n",
            "\n",
            "# Default: 200\u001b[0m\n",
            "\u001b[32m# maxUploadSize = 200\n",
            "\u001b[0m\n",
            "# \u001b[1mMax size, in megabytes, of messages that can be sent via the WebSocket connection.\u001b[0m\n",
            "\n",
            "# Default: 200\u001b[0m\n",
            "\u001b[32m# maxMessageSize = 200\n",
            "\u001b[0m\n",
            "# \u001b[1mEnables support for websocket compression.\u001b[0m\n",
            "\n",
            "# Default: false\u001b[0m\n",
            "\u001b[32m# enableWebsocketCompression = false\n",
            "\u001b[0m\n",
            "# \u001b[1mEnable serving files from a `static` directory in the running app's directory.\u001b[0m\n",
            "\n",
            "# Default: false\u001b[0m\n",
            "\u001b[32m# enableStaticServing = false\n",
            "\u001b[0m\n",
            "# \u001b[1mServer certificate file for connecting via HTTPS.\u001b[0m\n",
            "# \u001b[1mMust be set at the same time as \"server.sslKeyFile\".\u001b[0m\n",
            "\n",
            "# ['DO NOT USE THIS OPTION IN A PRODUCTION ENVIRONMENT. It has not gone through security audits or performance tests. For the production environment, we recommend performing SSL termination by the load balancer or the reverse proxy.']\u001b[0m\n",
            "\u001b[32m# sslCertFile =\n",
            "\u001b[0m\n",
            "# \u001b[1mCryptographic key file for connecting via HTTPS.\u001b[0m\n",
            "# \u001b[1mMust be set at the same time as \"server.sslCertFile\".\u001b[0m\n",
            "\n",
            "# ['DO NOT USE THIS OPTION IN A PRODUCTION ENVIRONMENT. It has not gone through security audits or performance tests. For the production environment, we recommend performing SSL termination by the load balancer or the reverse proxy.']\u001b[0m\n",
            "\u001b[32m# sslKeyFile =\n",
            "\u001b[0m\n",
            "\n",
            "\u001b[32m\u001b[1m[browser]\u001b[0m\n",
            "\n",
            "# \u001b[1mInternet address where users should point their browsers in order to\u001b[0m\n",
            "# \u001b[1mconnect to the app. Can be IP address or DNS name and path.\u001b[0m\n",
            "\n",
            "# This is used to:\u001b[0m\n",
            "# - Set the correct URL for CORS and XSRF protection purposes.\u001b[0m\n",
            "# - Show the URL on the terminal\u001b[0m\n",
            "# - Open the browser\u001b[0m\n",
            "\n",
            "# Default: \"localhost\"\u001b[0m\n",
            "\u001b[32m# serverAddress = \"localhost\"\n",
            "\u001b[0m\n",
            "# \u001b[1mWhether to send usage statistics to Streamlit.\u001b[0m\n",
            "\n",
            "# Default: true\u001b[0m\n",
            "\u001b[32m# gatherUsageStats = true\n",
            "\u001b[0m\n",
            "# \u001b[1mPort where users should point their browsers in order to connect to the\u001b[0m\n",
            "# \u001b[1mapp.\u001b[0m\n",
            "\n",
            "# This is used to:\u001b[0m\n",
            "# - Set the correct URL for CORS and XSRF protection purposes.\u001b[0m\n",
            "# - Show the URL on the terminal\u001b[0m\n",
            "# - Open the browser\u001b[0m\n",
            "\n",
            "# Default: whatever value is set in server.port.\u001b[0m\n",
            "\u001b[32m# serverPort = 8501\n",
            "\u001b[0m\n",
            "\n",
            "\u001b[32m\u001b[1m[mapbox]\u001b[0m\n",
            "\n",
            "# \u001b[1mConfigure Streamlit to use a custom Mapbox\u001b[0m\n",
            "# \u001b[1mtoken for elements like st.pydeck_chart and st.map.\u001b[0m\n",
            "# \u001b[1mTo get a token for yourself, create an account at\u001b[0m\n",
            "# \u001b[1mhttps://mapbox.com. It's free (for moderate usage levels)!\u001b[0m\n",
            "\n",
            "# Default: \"\"\u001b[0m\n",
            "\u001b[32m# token = \"\"\n",
            "\u001b[0m\n",
            "\n",
            "\u001b[32m\u001b[1m[deprecation]\u001b[0m\n",
            "\n",
            "# \u001b[1mSet to false to disable the deprecation warning for the file uploader encoding.\u001b[0m\n",
            "\n",
            "# Default: true\u001b[0m\n",
            "\u001b[32m# showfileUploaderEncoding = true\n",
            "\u001b[0m\n",
            "# \u001b[1mSet to false to disable the deprecation warning for using the global pyplot instance.\u001b[0m\n",
            "\n",
            "# Default: true\u001b[0m\n",
            "\u001b[32m# showPyplotGlobalUse = true\n",
            "\u001b[0m\n",
            "\n",
            "\u001b[32m\u001b[1m[theme]\u001b[0m\n",
            "\n",
            "# \u001b[1mThe preset Streamlit theme that your custom theme inherits from.\u001b[0m\n",
            "# \u001b[1mOne of \"light\" or \"dark\".\u001b[0m\n",
            "\u001b[32m# base =\n",
            "\u001b[0m\n",
            "# \u001b[1mPrimary accent color for interactive elements.\u001b[0m\n",
            "\u001b[32m# primaryColor =\n",
            "\u001b[0m\n",
            "# \u001b[1mBackground color for the main content area.\u001b[0m\n",
            "\u001b[32m# backgroundColor =\n",
            "\u001b[0m\n",
            "# \u001b[1mBackground color used for the sidebar and most interactive widgets.\u001b[0m\n",
            "\u001b[32m# secondaryBackgroundColor =\n",
            "\u001b[0m\n",
            "# \u001b[1mColor used for almost all text.\u001b[0m\n",
            "\u001b[32m# textColor =\n",
            "\u001b[0m\n",
            "# \u001b[1mFont family for all text in the app, except code blocks. One of \"sans serif\",\u001b[0m\n",
            "# \u001b[1m\"serif\", or \"monospace\".\u001b[0m\n",
            "\u001b[32m# font =\n",
            "\u001b[0m\n"
          ]
        }
      ],
      "source": [
        "!streamlit config show"
      ]
    },
    {
      "cell_type": "code",
      "execution_count": null,
      "metadata": {
        "colab": {
          "base_uri": "https://localhost:8080/"
        },
        "id": "mq2uO7_mSlx5",
        "outputId": "75602d44-a3da-4d8a-9083-05c56fd2ef3a"
      },
      "outputs": [
        {
          "name": "stdout",
          "output_type": "stream",
          "text": [
            "\n",
            "Collecting usage statistics. To deactivate, set browser.gatherUsageStats to False.\n",
            "\u001b[0m\n",
            "\u001b[0m\n",
            "\u001b[34m\u001b[1m  Welcome to Streamlit. Check out our demo in your browser.\u001b[0m\n",
            "\u001b[0m\n",
            "\u001b[34m  Network URL: \u001b[0m\u001b[1mhttp://172.28.0.12:8502\u001b[0m\n",
            "\u001b[34m  External URL: \u001b[0m\u001b[1mhttp://35.238.221.23:8502\u001b[0m\n",
            "\u001b[0m\n",
            "  Ready to create your own Python apps super quickly?\u001b[0m\n",
            "  Head over to \u001b[0m\u001b[1mhttps://docs.streamlit.io\u001b[0m\n",
            "\u001b[0m\n",
            "  May you create awesome apps!\u001b[0m\n",
            "\u001b[0m\n",
            "\u001b[0m\n",
            "\u001b[34m  Stopping...\u001b[0m\n",
            "\u001b[34m  Stopping...\u001b[0m\n",
            "Exception ignored in atexit callback: <function shutdown at 0x796c34f33640>\n",
            "Traceback (most recent call last):\n",
            "  File \"/usr/lib/python3.10/logging/__init__.py\", line 2191, in shutdown\n",
            "    h.release()\n",
            "  File \"/usr/local/lib/python3.10/dist-packages/streamlit/web/bootstrap.py\", line 69, in signal_handler\n",
            "    server.stop()\n",
            "  File \"/usr/local/lib/python3.10/dist-packages/streamlit/web/server/server.py\", line 397, in stop\n",
            "    self._runtime.stop()\n",
            "  File \"/usr/local/lib/python3.10/dist-packages/streamlit/runtime/runtime.py\", line 308, in stop\n",
            "    async_objs.eventloop.call_soon_threadsafe(stop_on_eventloop)\n",
            "  File \"/usr/lib/python3.10/asyncio/base_events.py\", line 798, in call_soon_threadsafe\n",
            "    self._check_closed()\n",
            "  File \"/usr/lib/python3.10/asyncio/base_events.py\", line 515, in _check_closed\n",
            "    raise RuntimeError('Event loop is closed')\n",
            "RuntimeError: Event loop is closed\n"
          ]
        }
      ],
      "source": [
        "!streamlit hello"
      ]
    },
    {
      "cell_type": "code",
      "execution_count": null,
      "metadata": {
        "id": "gwuyC_k6Sl1A"
      },
      "outputs": [],
      "source": []
    },
    {
      "cell_type": "code",
      "execution_count": null,
      "metadata": {
        "colab": {
          "base_uri": "https://localhost:8080/"
        },
        "id": "c0FT_4JqSl3_",
        "outputId": "91888cc4-7882-4ade-e336-376119786e06"
      },
      "outputs": [
        {
          "name": "stdout",
          "output_type": "stream",
          "text": [
            "Overwriting main.py\n"
          ]
        }
      ],
      "source": [
        "%%writefile main.py\n",
        "import streamlit as st\n",
        "\n",
        "def calculate_sum(n1, n2):\n",
        "  return n1 + n2\n",
        "\n",
        "st.title(\"Add numbers\")\n",
        "n1 = st.number_input(\"First Number\")\n",
        "n2 = st.number_input(\"Second Number\")\n",
        "if st.button(\"Calculate\"):\n",
        "  st.write(\"Summation is: \" + str(calculate_sum(n1, n2)))\n"
      ]
    },
    {
      "cell_type": "code",
      "execution_count": null,
      "metadata": {
        "colab": {
          "base_uri": "https://localhost:8080/"
        },
        "id": "6eQGY90pSl65",
        "outputId": "33040e6d-b43c-4762-fd1d-f59aad5fde5b"
      },
      "outputs": [
        {
          "name": "stdout",
          "output_type": "stream",
          "text": [
            "Password/Enpoint IP for localtunnel is: 35.238.221.23\n",
            "\u001b[K\u001b[?25hnpx: installed 22 in 3.694s\n",
            "your url is: https://spicy-swans-shine.loca.lt\n",
            "^C\n"
          ]
        }
      ],
      "source": [
        "!streamlit run main.py &>/content/logs.txt &\n",
        "import urllib\n",
        "print(\"Password/Enpoint IP for localtunnel is:\",urllib.request.urlopen('https://ipv4.icanhazip.com').read().decode('utf8').strip(\"\\n\"))\n",
        "!npx localtunnel --port 8501 wget -q -O - ipv4.icanhazip.com"
      ]
    },
    {
      "cell_type": "code",
      "execution_count": null,
      "metadata": {
        "colab": {
          "base_uri": "https://localhost:8080/"
        },
        "id": "YtJCLCLUUoe9",
        "outputId": "953c3fe1-4c14-4012-ce96-4ae14f917f48"
      },
      "outputs": [
        {
          "name": "stdout",
          "output_type": "stream",
          "text": [
            "Collecting selenium\n",
            "  Downloading selenium-4.12.0-py3-none-any.whl (9.4 MB)\n",
            "\u001b[2K     \u001b[90m━━━━━━━━━━━━━━━━━━━━━━━━━━━━━━━━━━━━━━━━\u001b[0m \u001b[32m9.4/9.4 MB\u001b[0m \u001b[31m18.4 MB/s\u001b[0m eta \u001b[36m0:00:00\u001b[0m\n",
            "\u001b[?25hRequirement already satisfied: urllib3[socks]<3,>=1.26 in /usr/local/lib/python3.10/dist-packages (from selenium) (2.0.4)\n",
            "Collecting trio~=0.17 (from selenium)\n",
            "  Downloading trio-0.22.2-py3-none-any.whl (400 kB)\n",
            "\u001b[2K     \u001b[90m━━━━━━━━━━━━━━━━━━━━━━━━━━━━━━━━━━━━━━\u001b[0m \u001b[32m400.2/400.2 kB\u001b[0m \u001b[31m33.4 MB/s\u001b[0m eta \u001b[36m0:00:00\u001b[0m\n",
            "\u001b[?25hCollecting trio-websocket~=0.9 (from selenium)\n",
            "  Downloading trio_websocket-0.10.3-py3-none-any.whl (17 kB)\n",
            "Requirement already satisfied: certifi>=2021.10.8 in /usr/local/lib/python3.10/dist-packages (from selenium) (2023.7.22)\n",
            "Requirement already satisfied: attrs>=20.1.0 in /usr/local/lib/python3.10/dist-packages (from trio~=0.17->selenium) (23.1.0)\n",
            "Requirement already satisfied: sortedcontainers in /usr/local/lib/python3.10/dist-packages (from trio~=0.17->selenium) (2.4.0)\n",
            "Requirement already satisfied: idna in /usr/local/lib/python3.10/dist-packages (from trio~=0.17->selenium) (3.4)\n",
            "Collecting outcome (from trio~=0.17->selenium)\n",
            "  Downloading outcome-1.2.0-py2.py3-none-any.whl (9.7 kB)\n",
            "Requirement already satisfied: sniffio in /usr/local/lib/python3.10/dist-packages (from trio~=0.17->selenium) (1.3.0)\n",
            "Requirement already satisfied: exceptiongroup>=1.0.0rc9 in /usr/local/lib/python3.10/dist-packages (from trio~=0.17->selenium) (1.1.3)\n",
            "Collecting wsproto>=0.14 (from trio-websocket~=0.9->selenium)\n",
            "  Downloading wsproto-1.2.0-py3-none-any.whl (24 kB)\n",
            "Requirement already satisfied: pysocks!=1.5.7,<2.0,>=1.5.6 in /usr/local/lib/python3.10/dist-packages (from urllib3[socks]<3,>=1.26->selenium) (1.7.1)\n",
            "Collecting h11<1,>=0.9.0 (from wsproto>=0.14->trio-websocket~=0.9->selenium)\n",
            "  Downloading h11-0.14.0-py3-none-any.whl (58 kB)\n",
            "\u001b[2K     \u001b[90m━━━━━━━━━━━━━━━━━━━━━━━━━━━━━━━━━━━━━━━━\u001b[0m \u001b[32m58.3/58.3 kB\u001b[0m \u001b[31m7.7 MB/s\u001b[0m eta \u001b[36m0:00:00\u001b[0m\n",
            "\u001b[?25hInstalling collected packages: outcome, h11, wsproto, trio, trio-websocket, selenium\n",
            "Successfully installed h11-0.14.0 outcome-1.2.0 selenium-4.12.0 trio-0.22.2 trio-websocket-0.10.3 wsproto-1.2.0\n"
          ]
        }
      ],
      "source": [
        "!pip install selenium"
      ]
    },
    {
      "cell_type": "code",
      "execution_count": null,
      "metadata": {
        "id": "5LWD3K1UQa4e"
      },
      "outputs": [],
      "source": [
        "\n",
        "import selenium\n",
        "from selenium import webdriver\n",
        "from selenium.webdriver.chrome.options import Options\n"
      ]
    },
    {
      "cell_type": "code",
      "execution_count": null,
      "metadata": {
        "id": "qFunVIQ5VjGz"
      },
      "outputs": [],
      "source": [
        "import time"
      ]
    },
    {
      "cell_type": "code",
      "execution_count": null,
      "metadata": {
        "id": "wMF3z7Y-VjJX"
      },
      "outputs": [],
      "source": [
        "from main import calculate_sum\n",
        "from selenium import webdriver\n",
        "from selenium.webdriver.chrome.options import Options\n",
        "import time\n",
        "\n",
        "\n",
        "def test_user_interface():\n",
        "    driver_path = r\"----------\\chromedriver.exe\"  # Path to chromedriver. Can end with .sh if on (Li/U)nix environments\n",
        "    options = Options()\n",
        "    options.add_argument(\"--headless\")  # To not open a real chrome window\n",
        "    with webdriver.Chrome(driver_path, chrome_options=options) as driver:\n",
        "        url = \"http://127.0.0.1:8501\"\n",
        "        driver.get(url)\n",
        "        time.sleep(5)\n",
        "        html = driver.page_source\n",
        "\n",
        "    assert \"Add numbers\" in html\n",
        "    assert \"First Number\" in html\n",
        "    assert \"Second Number\" in html\n",
        "\n",
        "\n",
        "def test_logic():\n",
        "    assert calculate_sum(1, 1) == 2\n",
        "    assert calculate_sum(1, -1) == 0\n",
        "    assert calculate_sum(1, 9) == 10\n",
        "\n",
        "\n",
        "# if __name__ == \"__main__\":\n",
        "#     test_logic()\n",
        "#     test_user_interface()"
      ]
    },
    {
      "cell_type": "code",
      "execution_count": null,
      "metadata": {
        "colab": {
          "base_uri": "https://localhost:8080/"
        },
        "id": "QRny-2HzVjLu",
        "outputId": "9380cd93-32f2-4469-fd7c-cf2f901096f0"
      },
      "outputs": [
        {
          "name": "stdout",
          "output_type": "stream",
          "text": [
            "Password/Enpoint IP for localtunnel is: 35.238.221.23\n",
            "\u001b[K\u001b[?25hnpx: installed 22 in 2.807s\n",
            "your url is: https://true-cobras-drive.loca.lt\n",
            "^C\n"
          ]
        }
      ],
      "source": [
        "!streamlit run main.py &>/content/logs.txt &\n",
        "import urllib\n",
        "print(\"Password/Enpoint IP for localtunnel is:\",urllib.request.urlopen('https://ipv4.icanhazip.com').read().decode('utf8').strip(\"\\n\"))\n",
        "!npx localtunnel --port 8501 wget -q -O - ipv4.icanhazip.com"
      ]
    },
    {
      "cell_type": "code",
      "execution_count": null,
      "metadata": {
        "id": "CTOT0-v3VjQ1"
      },
      "outputs": [],
      "source": [
        "import streamlit as st\n",
        "import time\n"
      ]
    },
    {
      "cell_type": "code",
      "execution_count": null,
      "metadata": {
        "id": "q5CVIj0cXlFX"
      },
      "outputs": [],
      "source": [
        "st.title(\"My Title\")\n",
        "time.sleep(2)\n",
        "st.write(\"My *markdown* text in **Streamlit**\")"
      ]
    },
    {
      "cell_type": "code",
      "execution_count": null,
      "metadata": {
        "colab": {
          "base_uri": "https://localhost:8080/"
        },
        "id": "z9hpFYTAXlJH",
        "outputId": "8b0c8c5d-51bd-4889-89c3-59e396b47a3a"
      },
      "outputs": [
        {
          "name": "stdout",
          "output_type": "stream",
          "text": [
            "Overwriting input_form.py\n"
          ]
        }
      ],
      "source": [
        "%%writefile input_form.py\n",
        "import streamlit as st\n",
        "\n",
        "with st.form('feedback_form'):\n",
        "    st.header('Feedback form')\n",
        "\n",
        "    # Creating columns to organize the form\n",
        "    col1, col2 = st.columns(2)\n",
        "    with col1:\n",
        "        name = st.text_input('Please enter your name',key='name')\n",
        "        rating = st.slider('Please rate this app',0,10,5)\n",
        "    with col2:\n",
        "        dob = st.date_input('Please enter your date of birth')\n",
        "        recommend = st.radio('Would you recommend this app to others?',('Yes','No'))\n",
        "\n",
        "    submit_button = st.form_submit_button('Submit')\n",
        "\n",
        "if submit_button is True:\n",
        "    st.write('**Name:**', name, '**Date of birth:**', dob, '**Rating:**', rating, '**Would recommend?:**', recommend)\n",
        "\n",
        "def display_name():\n",
        "    st.info('**Name:** %s' % (name))\n",
        "\n",
        "name = st.text_input('Please enter your name')\n",
        "\n",
        "if not name:\n",
        "    st.error('No name entered')\n",
        "\n",
        "if name:\n",
        "    display_name()\n",
        "\n",
        "def display_name():\n",
        "    st.info('**Name:** %s' % (name))\n",
        "\n",
        "\n",
        "\n",
        "if not name:\n",
        "    st.error('No name entered')\n",
        "    st.stop()\n",
        "\n",
        "display_name()\n"
      ]
    },
    {
      "cell_type": "code",
      "execution_count": 59,
      "metadata": {
        "colab": {
          "base_uri": "https://localhost:8080/"
        },
        "id": "DBOQUkOLXlNN",
        "outputId": "1bb0af6f-e379-4550-83e0-8ef76ee1220e"
      },
      "outputs": [
        {
          "output_type": "stream",
          "name": "stdout",
          "text": [
            "Password/Enpoint IP for localtunnel is: 35.238.221.23\n",
            "\u001b[K\u001b[?25hnpx: installed 22 in 2.399s\n",
            "your url is: https://late-files-like.loca.lt\n",
            "^C\n"
          ]
        }
      ],
      "source": [
        "!streamlit run input_form.py &>/content/logs.txt &\n",
        "import urllib\n",
        "print(\"Password/Enpoint IP for localtunnel is:\",urllib.request.urlopen('https://ipv4.icanhazip.com').read().decode('utf8').strip(\"\\n\"))\n",
        "!npx localtunnel --port 8501 wget -q -O - ipv4.icanhazip.com"
      ]
    },
    {
      "cell_type": "code",
      "execution_count": null,
      "metadata": {
        "id": "PCiq76bZb_Db"
      },
      "outputs": [],
      "source": []
    },
    {
      "cell_type": "code",
      "execution_count": null,
      "metadata": {
        "id": "IWCcFDumb_Gt"
      },
      "outputs": [],
      "source": []
    },
    {
      "cell_type": "code",
      "execution_count": null,
      "metadata": {
        "id": "EumxgkS4b_JX"
      },
      "outputs": [],
      "source": []
    },
    {
      "cell_type": "code",
      "execution_count": null,
      "metadata": {
        "id": "Q43RXGx7XlQn"
      },
      "outputs": [],
      "source": []
    },
    {
      "cell_type": "code",
      "execution_count": null,
      "metadata": {
        "id": "vvijHh32Qa9p"
      },
      "outputs": [],
      "source": []
    }
  ],
  "metadata": {
    "colab": {
      "provenance": [],
      "authorship_tag": "ABX9TyONn/vMGQPfxN5PVnbTq8iy",
      "include_colab_link": true
    },
    "kernelspec": {
      "display_name": "Python 3",
      "name": "python3"
    },
    "language_info": {
      "name": "python"
    }
  },
  "nbformat": 4,
  "nbformat_minor": 0
}